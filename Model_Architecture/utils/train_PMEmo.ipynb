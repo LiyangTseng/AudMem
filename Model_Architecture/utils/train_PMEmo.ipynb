{
    "cells": [
        {
            "cell_type": "code",
            "execution_count": 12,
            "source": [
                "import pandas as pd\n",
                "import os\n",
                "import pickle\n",
                "from sklearn.svm import SVR\n",
                "from sklearn.preprocessing import StandardScaler\n",
                "from sklearn.utils import shuffle\n"
            ],
            "outputs": [],
            "metadata": {}
        },
        {
            "cell_type": "markdown",
            "source": [
                "## Train Static Valance & Arousal Using Linear SVR"
            ],
            "metadata": {}
        },
        {
            "cell_type": "code",
            "execution_count": 2,
            "source": [
                "DATASET_DIR = 'PMEmo/dataset/PMEmo2019'\n",
                "\n",
                "def load_static_features():\n",
                "    features_csv = os.path.join(DATASET_DIR, 'features', 'static_features.csv')\n",
                "    static_features= pd.read_csv(features_csv, index_col=0)\n",
                "    return static_features\n",
                "\n",
                "def load_static_features_and_valence():\n",
                "    static_features = load_static_features()\n",
                "    valence_csv = os.path.join(DATASET_DIR, 'annotations', 'static_annotations.csv')\n",
                "    valence = pd.read_csv(valence_csv, index_col=0, usecols=['musicId','Valence(mean)'])\n",
                "    return static_features.join(valence).dropna()\n",
                "\n",
                "def load_static_features_and_arousal():\n",
                "    static_features = load_static_features()\n",
                "    arousal_csv = os.path.join(DATASET_DIR, 'annotations', 'static_annotations.csv')\n",
                "    arousal = pd.read_csv(arousal_csv, index_col=0, usecols=['musicId','Arousal(mean)'])\n",
                "    return static_features.join(arousal).dropna()\n",
                "\n",
                "def load_audio_dataset(data):\n",
                "    features = data[data.columns[:-1]].values\n",
                "    labels = data[data.columns[-1]].values\n",
                "#     scaler = StandardScaler(copy=False)\n",
                "#     scaler.fit_transform(features)\n",
                "    return features, labels"
            ],
            "outputs": [],
            "metadata": {}
        },
        {
            "cell_type": "code",
            "execution_count": 3,
            "source": [
                "data_static_a = load_static_features_and_arousal()\n",
                "static_features, static_labels_arousal = load_audio_dataset(data_static_a)\n",
                "\n",
                "data_static_v = load_static_features_and_valence()\n",
                "static_features, static_labels_valence = load_audio_dataset(data_static_v)"
            ],
            "outputs": [],
            "metadata": {}
        },
        {
            "cell_type": "code",
            "execution_count": 4,
            "source": [
                "scaler = StandardScaler().fit(static_features)\n",
                "scaled_static_features = scaler.transform(static_features)"
            ],
            "outputs": [],
            "metadata": {}
        },
        {
            "cell_type": "code",
            "execution_count": 5,
            "source": [
                "static_arousal_model = SVR(kernel='linear', gamma='scale')\n",
                "static_arousal_model.fit(scaled_static_features, static_labels_arousal)\n",
                "with open('svr_linear_static_arousal.pkl', 'wb') as fid:\n",
                "    pickle.dump(static_arousal_model, fid)"
            ],
            "outputs": [],
            "metadata": {}
        },
        {
            "cell_type": "code",
            "execution_count": 6,
            "source": [
                "\n",
                "static_valence_model = SVR(kernel='linear', gamma='scale')\n",
                "static_valence_model.fit(scaled_static_features, static_labels_valence)\n",
                "with open('svr_linear_static_valence.pkl', 'wb') as fid:\n",
                "    pickle.dump(static_valence_model, fid)"
            ],
            "outputs": [],
            "metadata": {}
        },
        {
            "cell_type": "code",
            "execution_count": null,
            "source": [],
            "outputs": [],
            "metadata": {}
        },
        {
            "cell_type": "code",
            "execution_count": null,
            "source": [],
            "outputs": [],
            "metadata": {}
        },
        {
            "cell_type": "markdown",
            "source": [
                "## Train Dynamic Valance & Arousal Using RBF SVR"
            ],
            "metadata": {}
        },
        {
            "cell_type": "code",
            "execution_count": 10,
            "source": [
                "features = pd.read_csv(os.path.join(DATASET_DIR, 'features', 'dynamic_features.csv'))\n",
                "annotations = pd.read_csv(os.path.join(DATASET_DIR, 'annotations', 'dynamic_annotations.csv'))\n",
                "dataset = pd.merge(features, annotations, on=['musicId', 'frameTime'])\n"
            ],
            "outputs": [],
            "metadata": {}
        },
        {
            "cell_type": "code",
            "execution_count": 13,
            "source": [
                "songs = dataset['musicId'].unique()\n",
                "songs = shuffle(songs, random_state=3)\n",
                "test_num = 0\n",
                "testsongs = songs[:test_num]"
            ],
            "outputs": [],
            "metadata": {}
        },
        {
            "cell_type": "code",
            "execution_count": 14,
            "source": [
                "\n",
                "dynamic_features = dataset[dataset.columns[2:262]]\n",
                "dynamic_scaler = StandardScaler().fit(dynamic_features)\n",
                "scaled_dynamic_features = dynamic_scaler.transform(dynamic_features)\n",
                "\n",
                "dynamic_labels_arousal, dynamic_labels_valence = dataset['Arousal(mean)'], dataset['Valence(mean)']"
            ],
            "outputs": [],
            "metadata": {}
        },
        {
            "cell_type": "code",
            "execution_count": 15,
            "source": [
                "scaled_dynamic_features.shape, dynamic_labels_valence.shape, dynamic_labels_arousal.shape"
            ],
            "outputs": [
                {
                    "output_type": "execute_result",
                    "data": {
                        "text/plain": [
                            "((36434, 260), (36434,), (36434,))"
                        ]
                    },
                    "metadata": {},
                    "execution_count": 15
                }
            ],
            "metadata": {}
        },
        {
            "cell_type": "code",
            "execution_count": 16,
            "source": [
                "dynamic_arousal_model = SVR(kernel='rbf', gamma='scale')\n",
                "dynamic_arousal_model.fit(scaled_dynamic_features, dynamic_labels_arousal)\n",
                "\n",
                "with open('svr_rbf_dynamic_arousal.pkl' , 'wb') as fid:\n",
                "        pickle.dump(dynamic_arousal_model, fid)\n",
                "   \n"
            ],
            "outputs": [],
            "metadata": {}
        },
        {
            "cell_type": "code",
            "execution_count": 17,
            "source": [
                "dynamic_valence_model = SVR(kernel='rbf', gamma='scale')\n",
                "dynamic_valence_model.fit(scaled_dynamic_features, dynamic_labels_valence)\n",
                "\n",
                "with open('svr_rbf_dynamic_valence.pkl' , 'wb') as fid:\n",
                "        pickle.dump(dynamic_valence_model, fid)"
            ],
            "outputs": [],
            "metadata": {}
        },
        {
            "cell_type": "code",
            "execution_count": null,
            "source": [],
            "outputs": [],
            "metadata": {}
        }
    ],
    "metadata": {
        "orig_nbformat": 4,
        "language_info": {
            "name": "python",
            "version": "3.8.5",
            "mimetype": "text/x-python",
            "codemirror_mode": {
                "name": "ipython",
                "version": 3
            },
            "pygments_lexer": "ipython3",
            "nbconvert_exporter": "python",
            "file_extension": ".py"
        },
        "kernelspec": {
            "name": "python3",
            "display_name": "Python 3.8.5 64-bit ('base': conda)"
        },
        "interpreter": {
            "hash": "319c24ade14b7873a3f936c1569cf8c1853592b8350107cb8f60c9b2a2771b37"
        }
    },
    "nbformat": 4,
    "nbformat_minor": 2
}