{
 "cells": [
  {
   "cell_type": "code",
   "execution_count": 1,
   "id": "637f417d",
   "metadata": {},
   "outputs": [],
   "source": [
    "import pandas as pd\n",
    "import librosa\n",
    "import os\n",
    "import numpy as np\n",
    "import seaborn as sns\n",
    "from tqdm import tqdm"
   ]
  },
  {
   "cell_type": "markdown",
   "id": "2cd30e3b",
   "metadata": {},
   "source": [
    "# raw audio (235 without truncation and PS)"
   ]
  },
  {
   "cell_type": "code",
   "execution_count": 2,
   "id": "6c40fc59",
   "metadata": {},
   "outputs": [
    {
     "name": "stderr",
     "output_type": "stream",
     "text": [
      "100%|██████████| 235/235 [01:02<00:00,  3.78it/s]\n"
     ]
    }
   ],
   "source": [
    "# calculate zcr of original audio clips (without truncating to 1-second clips)\n",
    "audio_path = '../data/raw_audios/original'\n",
    "zcr_list = []\n",
    "\n",
    "for filename in tqdm(os.listdir(audio_path)):\n",
    "    new_path = audio_path + '/' + filename\n",
    "    y, _ = librosa.load(path = new_path)\n",
    "    zcr_bool = librosa.zero_crossings(y=y, pad=True)\n",
    "    zcr = librosa.feature.zero_crossing_rate(y=y, center=True)\n",
    "    zcr_avg = np.mean(zcr)\n",
    "    zcr_median = np.median(zcr)\n",
    "    zcr_num = sum(zcr_bool)\n",
    "    zcr_list.append([filename, zcr_num, zcr_avg, zcr_median])"
   ]
  },
  {
   "cell_type": "code",
   "execution_count": 3,
   "id": "7a5e9bfb",
   "metadata": {},
   "outputs": [
    {
     "data": {
      "text/html": [
       "<div>\n",
       "<style scoped>\n",
       "    .dataframe tbody tr th:only-of-type {\n",
       "        vertical-align: middle;\n",
       "    }\n",
       "\n",
       "    .dataframe tbody tr th {\n",
       "        vertical-align: top;\n",
       "    }\n",
       "\n",
       "    .dataframe thead th {\n",
       "        text-align: right;\n",
       "    }\n",
       "</style>\n",
       "<table border=\"1\" class=\"dataframe\">\n",
       "  <thead>\n",
       "    <tr style=\"text-align: right;\">\n",
       "      <th></th>\n",
       "      <th>youtube_id</th>\n",
       "      <th>zcr_num</th>\n",
       "      <th>zcr_avg</th>\n",
       "      <th>zcr_median</th>\n",
       "    </tr>\n",
       "  </thead>\n",
       "  <tbody>\n",
       "    <tr>\n",
       "      <th>0</th>\n",
       "      <td>normalize_5s_intro_xhmtXrtLkgo.wav</td>\n",
       "      <td>6084</td>\n",
       "      <td>0.054927</td>\n",
       "      <td>0.040283</td>\n",
       "    </tr>\n",
       "    <tr>\n",
       "      <th>1</th>\n",
       "      <td>normalize_5s_intro_n4HTXYR-2AI.wav</td>\n",
       "      <td>2060</td>\n",
       "      <td>0.018451</td>\n",
       "      <td>0.012695</td>\n",
       "    </tr>\n",
       "    <tr>\n",
       "      <th>2</th>\n",
       "      <td>normalize_5s_intro_hejXc_FSYb8.wav</td>\n",
       "      <td>8523</td>\n",
       "      <td>0.076886</td>\n",
       "      <td>0.073242</td>\n",
       "    </tr>\n",
       "    <tr>\n",
       "      <th>3</th>\n",
       "      <td>normalize_5s_intro_IYnu4-69fTA.wav</td>\n",
       "      <td>5663</td>\n",
       "      <td>0.051005</td>\n",
       "      <td>0.047607</td>\n",
       "    </tr>\n",
       "    <tr>\n",
       "      <th>4</th>\n",
       "      <td>normalize_5s_intro_RoeRU5zxkak.wav</td>\n",
       "      <td>7183</td>\n",
       "      <td>0.064374</td>\n",
       "      <td>0.030273</td>\n",
       "    </tr>\n",
       "    <tr>\n",
       "      <th>...</th>\n",
       "      <td>...</td>\n",
       "      <td>...</td>\n",
       "      <td>...</td>\n",
       "      <td>...</td>\n",
       "    </tr>\n",
       "    <tr>\n",
       "      <th>230</th>\n",
       "      <td>normalize_5s_intro_JQTlG7NxJek.wav</td>\n",
       "      <td>3746</td>\n",
       "      <td>0.033716</td>\n",
       "      <td>0.017822</td>\n",
       "    </tr>\n",
       "    <tr>\n",
       "      <th>231</th>\n",
       "      <td>normalize_5s_intro_XkC8Uzl9pCY.wav</td>\n",
       "      <td>6339</td>\n",
       "      <td>0.057050</td>\n",
       "      <td>0.058594</td>\n",
       "    </tr>\n",
       "    <tr>\n",
       "      <th>232</th>\n",
       "      <td>normalize_5s_intro_1CrxzClzLvs.wav</td>\n",
       "      <td>5996</td>\n",
       "      <td>0.053641</td>\n",
       "      <td>0.050781</td>\n",
       "    </tr>\n",
       "    <tr>\n",
       "      <th>233</th>\n",
       "      <td>normalize_5s_intro_xePw8n4xu8o.wav</td>\n",
       "      <td>9761</td>\n",
       "      <td>0.087983</td>\n",
       "      <td>0.094482</td>\n",
       "    </tr>\n",
       "    <tr>\n",
       "      <th>234</th>\n",
       "      <td>normalize_5s_intro_PALMMqZLAQk.wav</td>\n",
       "      <td>16414</td>\n",
       "      <td>0.147904</td>\n",
       "      <td>0.123047</td>\n",
       "    </tr>\n",
       "  </tbody>\n",
       "</table>\n",
       "<p>235 rows × 4 columns</p>\n",
       "</div>"
      ],
      "text/plain": [
       "                             youtube_id  zcr_num   zcr_avg  zcr_median\n",
       "0    normalize_5s_intro_xhmtXrtLkgo.wav     6084  0.054927    0.040283\n",
       "1    normalize_5s_intro_n4HTXYR-2AI.wav     2060  0.018451    0.012695\n",
       "2    normalize_5s_intro_hejXc_FSYb8.wav     8523  0.076886    0.073242\n",
       "3    normalize_5s_intro_IYnu4-69fTA.wav     5663  0.051005    0.047607\n",
       "4    normalize_5s_intro_RoeRU5zxkak.wav     7183  0.064374    0.030273\n",
       "..                                  ...      ...       ...         ...\n",
       "230  normalize_5s_intro_JQTlG7NxJek.wav     3746  0.033716    0.017822\n",
       "231  normalize_5s_intro_XkC8Uzl9pCY.wav     6339  0.057050    0.058594\n",
       "232  normalize_5s_intro_1CrxzClzLvs.wav     5996  0.053641    0.050781\n",
       "233  normalize_5s_intro_xePw8n4xu8o.wav     9761  0.087983    0.094482\n",
       "234  normalize_5s_intro_PALMMqZLAQk.wav    16414  0.147904    0.123047\n",
       "\n",
       "[235 rows x 4 columns]"
      ]
     },
     "execution_count": 3,
     "metadata": {},
     "output_type": "execute_result"
    }
   ],
   "source": [
    "zcr_df = pd.DataFrame(zcr_list, columns=['youtube_id', 'zcr_num', 'zcr_avg', 'zcr_median'])\n",
    "zcr_df"
   ]
  },
  {
   "cell_type": "code",
   "execution_count": 2,
   "id": "da67f9f3",
   "metadata": {
    "pycharm": {
     "name": "#%%\n"
    }
   },
   "outputs": [
    {
     "data": {
      "text/html": [
       "<div>\n",
       "<style scoped>\n",
       "    .dataframe tbody tr th:only-of-type {\n",
       "        vertical-align: middle;\n",
       "    }\n",
       "\n",
       "    .dataframe tbody tr th {\n",
       "        vertical-align: top;\n",
       "    }\n",
       "\n",
       "    .dataframe thead th {\n",
       "        text-align: right;\n",
       "    }\n",
       "</style>\n",
       "<table border=\"1\" class=\"dataframe\">\n",
       "  <thead>\n",
       "    <tr style=\"text-align: right;\">\n",
       "      <th></th>\n",
       "      <th>youtube_id</th>\n",
       "      <th>memorability_score</th>\n",
       "    </tr>\n",
       "  </thead>\n",
       "  <tbody>\n",
       "    <tr>\n",
       "      <th>0</th>\n",
       "      <td>normalize_5s_intro_zyQkFh-E4Ak.wav</td>\n",
       "      <td>0.508772</td>\n",
       "    </tr>\n",
       "    <tr>\n",
       "      <th>1</th>\n",
       "      <td>normalize_5s_intro_ZvrysfBDzSs.wav</td>\n",
       "      <td>0.454545</td>\n",
       "    </tr>\n",
       "    <tr>\n",
       "      <th>2</th>\n",
       "      <td>normalize_5s_intro_zumMQrI_tMg.wav</td>\n",
       "      <td>0.481928</td>\n",
       "    </tr>\n",
       "  </tbody>\n",
       "</table>\n",
       "</div>"
      ],
      "text/plain": [
       "                           youtube_id  memorability_score\n",
       "0  normalize_5s_intro_zyQkFh-E4Ak.wav            0.508772\n",
       "1  normalize_5s_intro_ZvrysfBDzSs.wav            0.454545\n",
       "2  normalize_5s_intro_zumMQrI_tMg.wav            0.481928"
      ]
     },
     "execution_count": 2,
     "metadata": {},
     "output_type": "execute_result"
    }
   ],
   "source": [
    "score_df = pd.read_csv('../data/YTMM_details.csv')[['youtube_id','memorability_score']]\n",
    "score_df.head(3)"
   ]
  },
  {
   "cell_type": "code",
   "execution_count": 5,
   "id": "83c88997",
   "metadata": {
    "pycharm": {
     "name": "#%%\n"
    }
   },
   "outputs": [
    {
     "data": {
      "text/html": [
       "<div>\n",
       "<style scoped>\n",
       "    .dataframe tbody tr th:only-of-type {\n",
       "        vertical-align: middle;\n",
       "    }\n",
       "\n",
       "    .dataframe tbody tr th {\n",
       "        vertical-align: top;\n",
       "    }\n",
       "\n",
       "    .dataframe thead th {\n",
       "        text-align: right;\n",
       "    }\n",
       "</style>\n",
       "<table border=\"1\" class=\"dataframe\">\n",
       "  <thead>\n",
       "    <tr style=\"text-align: right;\">\n",
       "      <th></th>\n",
       "      <th>youtube_id</th>\n",
       "      <th>zcr_num</th>\n",
       "      <th>zcr_avg</th>\n",
       "      <th>zcr_median</th>\n",
       "      <th>memorability_score</th>\n",
       "    </tr>\n",
       "  </thead>\n",
       "  <tbody>\n",
       "    <tr>\n",
       "      <th>0</th>\n",
       "      <td>normalize_5s_intro_xhmtXrtLkgo.wav</td>\n",
       "      <td>6084</td>\n",
       "      <td>0.054927</td>\n",
       "      <td>0.040283</td>\n",
       "      <td>0.897436</td>\n",
       "    </tr>\n",
       "    <tr>\n",
       "      <th>1</th>\n",
       "      <td>normalize_5s_intro_n4HTXYR-2AI.wav</td>\n",
       "      <td>2060</td>\n",
       "      <td>0.018451</td>\n",
       "      <td>0.012695</td>\n",
       "      <td>0.875000</td>\n",
       "    </tr>\n",
       "    <tr>\n",
       "      <th>2</th>\n",
       "      <td>normalize_5s_intro_hejXc_FSYb8.wav</td>\n",
       "      <td>8523</td>\n",
       "      <td>0.076886</td>\n",
       "      <td>0.073242</td>\n",
       "      <td>0.870130</td>\n",
       "    </tr>\n",
       "    <tr>\n",
       "      <th>3</th>\n",
       "      <td>normalize_5s_intro_IYnu4-69fTA.wav</td>\n",
       "      <td>5663</td>\n",
       "      <td>0.051005</td>\n",
       "      <td>0.047607</td>\n",
       "      <td>0.877551</td>\n",
       "    </tr>\n",
       "    <tr>\n",
       "      <th>4</th>\n",
       "      <td>normalize_5s_intro_RoeRU5zxkak.wav</td>\n",
       "      <td>7183</td>\n",
       "      <td>0.064374</td>\n",
       "      <td>0.030273</td>\n",
       "      <td>0.383562</td>\n",
       "    </tr>\n",
       "    <tr>\n",
       "      <th>...</th>\n",
       "      <td>...</td>\n",
       "      <td>...</td>\n",
       "      <td>...</td>\n",
       "      <td>...</td>\n",
       "      <td>...</td>\n",
       "    </tr>\n",
       "    <tr>\n",
       "      <th>230</th>\n",
       "      <td>normalize_5s_intro_JQTlG7NxJek.wav</td>\n",
       "      <td>3746</td>\n",
       "      <td>0.033716</td>\n",
       "      <td>0.017822</td>\n",
       "      <td>0.395349</td>\n",
       "    </tr>\n",
       "    <tr>\n",
       "      <th>231</th>\n",
       "      <td>normalize_5s_intro_XkC8Uzl9pCY.wav</td>\n",
       "      <td>6339</td>\n",
       "      <td>0.057050</td>\n",
       "      <td>0.058594</td>\n",
       "      <td>0.769231</td>\n",
       "    </tr>\n",
       "    <tr>\n",
       "      <th>232</th>\n",
       "      <td>normalize_5s_intro_1CrxzClzLvs.wav</td>\n",
       "      <td>5996</td>\n",
       "      <td>0.053641</td>\n",
       "      <td>0.050781</td>\n",
       "      <td>0.658537</td>\n",
       "    </tr>\n",
       "    <tr>\n",
       "      <th>233</th>\n",
       "      <td>normalize_5s_intro_xePw8n4xu8o.wav</td>\n",
       "      <td>9761</td>\n",
       "      <td>0.087983</td>\n",
       "      <td>0.094482</td>\n",
       "      <td>0.559524</td>\n",
       "    </tr>\n",
       "    <tr>\n",
       "      <th>234</th>\n",
       "      <td>normalize_5s_intro_PALMMqZLAQk.wav</td>\n",
       "      <td>16414</td>\n",
       "      <td>0.147904</td>\n",
       "      <td>0.123047</td>\n",
       "      <td>0.671429</td>\n",
       "    </tr>\n",
       "  </tbody>\n",
       "</table>\n",
       "<p>235 rows × 5 columns</p>\n",
       "</div>"
      ],
      "text/plain": [
       "                             youtube_id  zcr_num   zcr_avg  zcr_median  \\\n",
       "0    normalize_5s_intro_xhmtXrtLkgo.wav     6084  0.054927    0.040283   \n",
       "1    normalize_5s_intro_n4HTXYR-2AI.wav     2060  0.018451    0.012695   \n",
       "2    normalize_5s_intro_hejXc_FSYb8.wav     8523  0.076886    0.073242   \n",
       "3    normalize_5s_intro_IYnu4-69fTA.wav     5663  0.051005    0.047607   \n",
       "4    normalize_5s_intro_RoeRU5zxkak.wav     7183  0.064374    0.030273   \n",
       "..                                  ...      ...       ...         ...   \n",
       "230  normalize_5s_intro_JQTlG7NxJek.wav     3746  0.033716    0.017822   \n",
       "231  normalize_5s_intro_XkC8Uzl9pCY.wav     6339  0.057050    0.058594   \n",
       "232  normalize_5s_intro_1CrxzClzLvs.wav     5996  0.053641    0.050781   \n",
       "233  normalize_5s_intro_xePw8n4xu8o.wav     9761  0.087983    0.094482   \n",
       "234  normalize_5s_intro_PALMMqZLAQk.wav    16414  0.147904    0.123047   \n",
       "\n",
       "     memorability_score  \n",
       "0              0.897436  \n",
       "1              0.875000  \n",
       "2              0.870130  \n",
       "3              0.877551  \n",
       "4              0.383562  \n",
       "..                  ...  \n",
       "230            0.395349  \n",
       "231            0.769231  \n",
       "232            0.658537  \n",
       "233            0.559524  \n",
       "234            0.671429  \n",
       "\n",
       "[235 rows x 5 columns]"
      ]
     },
     "execution_count": 5,
     "metadata": {},
     "output_type": "execute_result"
    }
   ],
   "source": [
    "df = pd.merge(zcr_df, score_df, on='youtube_id')\n",
    "df"
   ]
  },
  {
   "cell_type": "code",
   "execution_count": 3,
   "id": "58098855",
   "metadata": {},
   "outputs": [],
   "source": [
    "def save(df, col, clips_type):\n",
    "    print('{}, corr {} and memorabilty score : {}'.format(clips_type, col, df[col].corr(df['memorability_score'])))\n",
    "    plot = sns.scatterplot(x=col, y=\"memorability_score\", data=df).get_figure()\n",
    "    plot.savefig('./corr_zcr/'+clips_type+'_'+col+'.png') \n",
    "    plot.clf()"
   ]
  },
  {
   "cell_type": "code",
   "execution_count": 7,
   "id": "6861c585",
   "metadata": {
    "pycharm": {
     "name": "#%%\n"
    }
   },
   "outputs": [
    {
     "name": "stdout",
     "output_type": "stream",
     "text": [
      "raw, corr zcr_num and memorabilty score : 0.15977892077269815\n",
      "raw, corr zcr_avg and memorabilty score : 0.16027710591562633\n",
      "raw, corr zcr_median and memorabilty score : 0.16841144568769792\n"
     ]
    },
    {
     "data": {
      "text/plain": [
       "<Figure size 432x288 with 0 Axes>"
      ]
     },
     "metadata": {},
     "output_type": "display_data"
    }
   ],
   "source": [
    "save(df=df, col='zcr_num', clips_type='raw')\n",
    "save(df=df, col='zcr_avg', clips_type='raw')\n",
    "save(df=df, col='zcr_median', clips_type='raw')"
   ]
  },
  {
   "cell_type": "code",
   "execution_count": 8,
   "id": "9f7c44cc",
   "metadata": {},
   "outputs": [],
   "source": [
    "df.to_csv('./zcr_df/raw_zcr_df',index=False)"
   ]
  },
  {
   "cell_type": "markdown",
   "id": "e829a30a",
   "metadata": {},
   "source": [
    "# augmented audio clips (235 * 9 truncation * 11 pitch shifting)"
   ]
  },
  {
   "cell_type": "code",
   "execution_count": 4,
   "id": "5e23dd18",
   "metadata": {},
   "outputs": [
    {
     "name": "stderr",
     "output_type": "stream",
     "text": [
      "100%|██████████| 23265/23265 [16:41<00:00, 23.23it/s]\n"
     ]
    }
   ],
   "source": [
    "# calculate zcr of original audio clips (without truncating to 1-second clips)\n",
    "truncated_audio_path = '../data/1_second_clips'\n",
    "truncated_zcr_list = []\n",
    "truncated_withPS_zcr_list = []\n",
    "\n",
    "for filename in tqdm(os.listdir(truncated_audio_path)):\n",
    "    new_path = truncated_audio_path + '/' + filename\n",
    "    y, _ = librosa.load(path = new_path)\n",
    "    zcr_bool = librosa.zero_crossings(y=y, pad=True)\n",
    "    zcr = librosa.feature.zero_crossing_rate(y=y, center=True)\n",
    "    zcr_avg = np.mean(zcr)\n",
    "    zcr_median = np.median(zcr)\n",
    "    zcr_num = sum(zcr_bool)\n",
    "    if filename[-14:-6] == 'original':\n",
    "        truncated_zcr_list.append([filename, zcr_num, zcr_avg, zcr_median])\n",
    "    truncated_withPS_zcr_list.append([filename, zcr_num, zcr_avg, zcr_median])"
   ]
  },
  {
   "cell_type": "code",
   "execution_count": 10,
   "id": "81221ce3",
   "metadata": {},
   "outputs": [
    {
     "name": "stdout",
     "output_type": "stream",
     "text": [
      "2115\n",
      "23265\n"
     ]
    }
   ],
   "source": [
    "print(len(truncated_zcr_list))\n",
    "print(len(truncated_withPS_zcr_list))"
   ]
  },
  {
   "cell_type": "markdown",
   "id": "f6bd2d89",
   "metadata": {},
   "source": [
    "# only truncation "
   ]
  },
  {
   "cell_type": "code",
   "execution_count": 11,
   "id": "20b2d1d8",
   "metadata": {},
   "outputs": [
    {
     "data": {
      "text/html": [
       "<div>\n",
       "<style scoped>\n",
       "    .dataframe tbody tr th:only-of-type {\n",
       "        vertical-align: middle;\n",
       "    }\n",
       "\n",
       "    .dataframe tbody tr th {\n",
       "        vertical-align: top;\n",
       "    }\n",
       "\n",
       "    .dataframe thead th {\n",
       "        text-align: right;\n",
       "    }\n",
       "</style>\n",
       "<table border=\"1\" class=\"dataframe\">\n",
       "  <thead>\n",
       "    <tr style=\"text-align: right;\">\n",
       "      <th></th>\n",
       "      <th>youtube_id</th>\n",
       "      <th>zcr_num</th>\n",
       "      <th>zcr_avg</th>\n",
       "      <th>zcr_median</th>\n",
       "      <th>memorability_score</th>\n",
       "    </tr>\n",
       "  </thead>\n",
       "  <tbody>\n",
       "    <tr>\n",
       "      <th>0</th>\n",
       "      <td>SQBuVfTX1ME_original_7.wav</td>\n",
       "      <td>1056</td>\n",
       "      <td>0.046442</td>\n",
       "      <td>0.050293</td>\n",
       "      <td>0.0</td>\n",
       "    </tr>\n",
       "    <tr>\n",
       "      <th>1</th>\n",
       "      <td>gue_crpFdSE_original_9.wav</td>\n",
       "      <td>2040</td>\n",
       "      <td>0.089056</td>\n",
       "      <td>0.092529</td>\n",
       "      <td>0.0</td>\n",
       "    </tr>\n",
       "    <tr>\n",
       "      <th>2</th>\n",
       "      <td>Tfypj4UwvvA_original_5.wav</td>\n",
       "      <td>1114</td>\n",
       "      <td>0.048939</td>\n",
       "      <td>0.038330</td>\n",
       "      <td>0.0</td>\n",
       "    </tr>\n",
       "  </tbody>\n",
       "</table>\n",
       "</div>"
      ],
      "text/plain": [
       "                   youtube_id  zcr_num   zcr_avg  zcr_median  \\\n",
       "0  SQBuVfTX1ME_original_7.wav     1056  0.046442    0.050293   \n",
       "1  gue_crpFdSE_original_9.wav     2040  0.089056    0.092529   \n",
       "2  Tfypj4UwvvA_original_5.wav     1114  0.048939    0.038330   \n",
       "\n",
       "   memorability_score  \n",
       "0                 0.0  \n",
       "1                 0.0  \n",
       "2                 0.0  "
      ]
     },
     "execution_count": 11,
     "metadata": {},
     "output_type": "execute_result"
    }
   ],
   "source": [
    "truncated_zcr_df = pd.DataFrame(truncated_zcr_list, columns=['youtube_id', 'zcr_num', 'zcr_avg', 'zcr_median'])\n",
    "truncated_zcr_df['memorability_score'] = 0.0\n",
    "truncated_zcr_df.head(3)"
   ]
  },
  {
   "cell_type": "code",
   "execution_count": 12,
   "id": "7e8c68ba",
   "metadata": {},
   "outputs": [],
   "source": [
    "for idx, row in truncated_zcr_df.iterrows():\n",
    "    original_id = 'normalize_5s_intro_' + row['youtube_id'][:-15] + '.wav'\n",
    "    score = score_df.loc[score_df['youtube_id'] == original_id]['memorability_score']\n",
    "    truncated_zcr_df.at[idx, 'memorability_score'] = score"
   ]
  },
  {
   "cell_type": "code",
   "execution_count": 13,
   "id": "972a8591",
   "metadata": {},
   "outputs": [
    {
     "name": "stdout",
     "output_type": "stream",
     "text": [
      "truncation, corr zcr_num and memorabilty score : 0.1823828894097966\n",
      "truncation, corr zcr_avg and memorabilty score : 0.18236734843183652\n",
      "truncation, corr zcr_median and memorabilty score : 0.19152266461395703\n"
     ]
    },
    {
     "data": {
      "text/plain": [
       "<Figure size 432x288 with 0 Axes>"
      ]
     },
     "metadata": {},
     "output_type": "display_data"
    }
   ],
   "source": [
    "save(df=truncated_zcr_df, col='zcr_num', clips_type='truncation')\n",
    "save(df=truncated_zcr_df, col='zcr_avg', clips_type='truncation')\n",
    "save(df=truncated_zcr_df, col='zcr_median', clips_type='truncation')"
   ]
  },
  {
   "cell_type": "code",
   "execution_count": 14,
   "id": "81b9795e",
   "metadata": {},
   "outputs": [],
   "source": [
    "truncated_zcr_df.to_csv('./zcr_df/truncated_zcr_df',index=False)"
   ]
  },
  {
   "cell_type": "markdown",
   "id": "b953d1da",
   "metadata": {},
   "source": [
    "# truncation + PS"
   ]
  },
  {
   "cell_type": "code",
   "execution_count": 5,
   "id": "ec8520b0",
   "metadata": {},
   "outputs": [
    {
     "data": {
      "text/html": [
       "<div>\n",
       "<style scoped>\n",
       "    .dataframe tbody tr th:only-of-type {\n",
       "        vertical-align: middle;\n",
       "    }\n",
       "\n",
       "    .dataframe tbody tr th {\n",
       "        vertical-align: top;\n",
       "    }\n",
       "\n",
       "    .dataframe thead th {\n",
       "        text-align: right;\n",
       "    }\n",
       "</style>\n",
       "<table border=\"1\" class=\"dataframe\">\n",
       "  <thead>\n",
       "    <tr style=\"text-align: right;\">\n",
       "      <th></th>\n",
       "      <th>youtube_id</th>\n",
       "      <th>zcr_num</th>\n",
       "      <th>zcr_avg</th>\n",
       "      <th>zcr_median</th>\n",
       "      <th>memorability_score</th>\n",
       "    </tr>\n",
       "  </thead>\n",
       "  <tbody>\n",
       "    <tr>\n",
       "      <th>0</th>\n",
       "      <td>SQBuVfTX1ME_original_7.wav</td>\n",
       "      <td>1056</td>\n",
       "      <td>0.046442</td>\n",
       "      <td>0.050293</td>\n",
       "      <td>0.0</td>\n",
       "    </tr>\n",
       "    <tr>\n",
       "      <th>1</th>\n",
       "      <td>a8cJLohQ_Jg_1_semitones_1.wav</td>\n",
       "      <td>1146</td>\n",
       "      <td>0.050237</td>\n",
       "      <td>0.054443</td>\n",
       "      <td>0.0</td>\n",
       "    </tr>\n",
       "    <tr>\n",
       "      <th>2</th>\n",
       "      <td>Yh78Ll6-ODQ_-2_semitones_2.wav</td>\n",
       "      <td>2474</td>\n",
       "      <td>0.108387</td>\n",
       "      <td>0.094971</td>\n",
       "      <td>0.0</td>\n",
       "    </tr>\n",
       "  </tbody>\n",
       "</table>\n",
       "</div>"
      ],
      "text/plain": [
       "                       youtube_id  zcr_num   zcr_avg  zcr_median  \\\n",
       "0      SQBuVfTX1ME_original_7.wav     1056  0.046442    0.050293   \n",
       "1   a8cJLohQ_Jg_1_semitones_1.wav     1146  0.050237    0.054443   \n",
       "2  Yh78Ll6-ODQ_-2_semitones_2.wav     2474  0.108387    0.094971   \n",
       "\n",
       "   memorability_score  \n",
       "0                 0.0  \n",
       "1                 0.0  \n",
       "2                 0.0  "
      ]
     },
     "execution_count": 5,
     "metadata": {},
     "output_type": "execute_result"
    }
   ],
   "source": [
    "truncated_withPS_zcr_df = pd.DataFrame(truncated_withPS_zcr_list, columns=['youtube_id', 'zcr_num', 'zcr_avg', 'zcr_median'])\n",
    "truncated_withPS_zcr_df['memorability_score'] = 0.0\n",
    "truncated_withPS_zcr_df.head(3)"
   ]
  },
  {
   "cell_type": "code",
   "execution_count": 6,
   "id": "78c2ef60",
   "metadata": {},
   "outputs": [],
   "source": [
    "for idx, row in truncated_withPS_zcr_df.iterrows():\n",
    "    original_id = 'normalize_5s_intro_' + row['youtube_id'][:11] + '.wav'\n",
    "    score = score_df.loc[score_df['youtube_id'] == original_id]['memorability_score']\n",
    "    truncated_withPS_zcr_df.at[idx, 'memorability_score'] = score"
   ]
  },
  {
   "cell_type": "code",
   "execution_count": 7,
   "id": "f6325731",
   "metadata": {},
   "outputs": [
    {
     "name": "stdout",
     "output_type": "stream",
     "text": [
      "truncation&PS, corr zcr_num and memorabilty score : 0.16800313567250244\n",
      "truncation&PS, corr zcr_avg and memorabilty score : 0.1679892177988872\n",
      "truncation&PS, corr zcr_median and memorabilty score : 0.1769466877834053\n"
     ]
    },
    {
     "data": {
      "text/plain": [
       "<Figure size 432x288 with 0 Axes>"
      ]
     },
     "metadata": {},
     "output_type": "display_data"
    }
   ],
   "source": [
    "save(df=truncated_withPS_zcr_df, col='zcr_num', clips_type='truncation&PS')\n",
    "save(df=truncated_withPS_zcr_df, col='zcr_avg', clips_type='truncation&PS')\n",
    "save(df=truncated_withPS_zcr_df, col='zcr_median', clips_type='truncation&PS')"
   ]
  },
  {
   "cell_type": "code",
   "execution_count": 8,
   "id": "16b79de7",
   "metadata": {},
   "outputs": [],
   "source": [
    "truncated_withPS_zcr_df.to_csv('./zcr_df/truncated_withPS_zcr_df',index=False)"
   ]
  },
  {
   "cell_type": "code",
   "execution_count": 9,
   "id": "d2d4769d",
   "metadata": {},
   "outputs": [
    {
     "data": {
      "text/html": [
       "<div>\n",
       "<style scoped>\n",
       "    .dataframe tbody tr th:only-of-type {\n",
       "        vertical-align: middle;\n",
       "    }\n",
       "\n",
       "    .dataframe tbody tr th {\n",
       "        vertical-align: top;\n",
       "    }\n",
       "\n",
       "    .dataframe thead th {\n",
       "        text-align: right;\n",
       "    }\n",
       "</style>\n",
       "<table border=\"1\" class=\"dataframe\">\n",
       "  <thead>\n",
       "    <tr style=\"text-align: right;\">\n",
       "      <th></th>\n",
       "      <th>youtube_id</th>\n",
       "      <th>zcr_num</th>\n",
       "      <th>zcr_avg</th>\n",
       "      <th>zcr_median</th>\n",
       "      <th>memorability_score</th>\n",
       "    </tr>\n",
       "  </thead>\n",
       "  <tbody>\n",
       "    <tr>\n",
       "      <th>0</th>\n",
       "      <td>SQBuVfTX1ME_original_7.wav</td>\n",
       "      <td>1056</td>\n",
       "      <td>0.046442</td>\n",
       "      <td>0.050293</td>\n",
       "      <td>0.800000</td>\n",
       "    </tr>\n",
       "    <tr>\n",
       "      <th>1</th>\n",
       "      <td>a8cJLohQ_Jg_1_semitones_1.wav</td>\n",
       "      <td>1146</td>\n",
       "      <td>0.050237</td>\n",
       "      <td>0.054443</td>\n",
       "      <td>0.524390</td>\n",
       "    </tr>\n",
       "    <tr>\n",
       "      <th>2</th>\n",
       "      <td>Yh78Ll6-ODQ_-2_semitones_2.wav</td>\n",
       "      <td>2474</td>\n",
       "      <td>0.108387</td>\n",
       "      <td>0.094971</td>\n",
       "      <td>0.708333</td>\n",
       "    </tr>\n",
       "    <tr>\n",
       "      <th>3</th>\n",
       "      <td>Yh78Ll6-ODQ_1_semitones_3.wav</td>\n",
       "      <td>2756</td>\n",
       "      <td>0.120228</td>\n",
       "      <td>0.130859</td>\n",
       "      <td>0.708333</td>\n",
       "    </tr>\n",
       "    <tr>\n",
       "      <th>4</th>\n",
       "      <td>xhmtXrtLkgo_3_semitones_9.wav</td>\n",
       "      <td>1048</td>\n",
       "      <td>0.045510</td>\n",
       "      <td>0.044434</td>\n",
       "      <td>0.897436</td>\n",
       "    </tr>\n",
       "    <tr>\n",
       "      <th>...</th>\n",
       "      <td>...</td>\n",
       "      <td>...</td>\n",
       "      <td>...</td>\n",
       "      <td>...</td>\n",
       "      <td>...</td>\n",
       "    </tr>\n",
       "    <tr>\n",
       "      <th>23260</th>\n",
       "      <td>IISA6t-9zzc_4_semitones_7.wav</td>\n",
       "      <td>917</td>\n",
       "      <td>0.040217</td>\n",
       "      <td>0.040771</td>\n",
       "      <td>0.829545</td>\n",
       "    </tr>\n",
       "    <tr>\n",
       "      <th>23261</th>\n",
       "      <td>lE_747E_Sdg_-5_semitones_4.wav</td>\n",
       "      <td>1292</td>\n",
       "      <td>0.056818</td>\n",
       "      <td>0.052734</td>\n",
       "      <td>0.883333</td>\n",
       "    </tr>\n",
       "    <tr>\n",
       "      <th>23262</th>\n",
       "      <td>RCJx5VW-fQI_5_semitones_2.wav</td>\n",
       "      <td>1656</td>\n",
       "      <td>0.072199</td>\n",
       "      <td>0.067139</td>\n",
       "      <td>0.724638</td>\n",
       "    </tr>\n",
       "    <tr>\n",
       "      <th>23263</th>\n",
       "      <td>Z5gvqq3ChII_3_semitones_3.wav</td>\n",
       "      <td>2307</td>\n",
       "      <td>0.101030</td>\n",
       "      <td>0.099854</td>\n",
       "      <td>0.875000</td>\n",
       "    </tr>\n",
       "    <tr>\n",
       "      <th>23264</th>\n",
       "      <td>TFv9Kcym9dg_-1_semitones_5.wav</td>\n",
       "      <td>1982</td>\n",
       "      <td>0.086936</td>\n",
       "      <td>0.083252</td>\n",
       "      <td>0.714286</td>\n",
       "    </tr>\n",
       "  </tbody>\n",
       "</table>\n",
       "<p>23265 rows × 5 columns</p>\n",
       "</div>"
      ],
      "text/plain": [
       "                           youtube_id  zcr_num   zcr_avg  zcr_median  \\\n",
       "0          SQBuVfTX1ME_original_7.wav     1056  0.046442    0.050293   \n",
       "1       a8cJLohQ_Jg_1_semitones_1.wav     1146  0.050237    0.054443   \n",
       "2      Yh78Ll6-ODQ_-2_semitones_2.wav     2474  0.108387    0.094971   \n",
       "3       Yh78Ll6-ODQ_1_semitones_3.wav     2756  0.120228    0.130859   \n",
       "4       xhmtXrtLkgo_3_semitones_9.wav     1048  0.045510    0.044434   \n",
       "...                               ...      ...       ...         ...   \n",
       "23260   IISA6t-9zzc_4_semitones_7.wav      917  0.040217    0.040771   \n",
       "23261  lE_747E_Sdg_-5_semitones_4.wav     1292  0.056818    0.052734   \n",
       "23262   RCJx5VW-fQI_5_semitones_2.wav     1656  0.072199    0.067139   \n",
       "23263   Z5gvqq3ChII_3_semitones_3.wav     2307  0.101030    0.099854   \n",
       "23264  TFv9Kcym9dg_-1_semitones_5.wav     1982  0.086936    0.083252   \n",
       "\n",
       "       memorability_score  \n",
       "0                0.800000  \n",
       "1                0.524390  \n",
       "2                0.708333  \n",
       "3                0.708333  \n",
       "4                0.897436  \n",
       "...                   ...  \n",
       "23260            0.829545  \n",
       "23261            0.883333  \n",
       "23262            0.724638  \n",
       "23263            0.875000  \n",
       "23264            0.714286  \n",
       "\n",
       "[23265 rows x 5 columns]"
      ]
     },
     "execution_count": 9,
     "metadata": {},
     "output_type": "execute_result"
    }
   ],
   "source": [
    "truncated_withPS_zcr_df"
   ]
  },
  {
   "cell_type": "code",
   "execution_count": null,
   "id": "b9c795d4",
   "metadata": {},
   "outputs": [],
   "source": []
  }
 ],
 "metadata": {
  "kernelspec": {
   "display_name": "Python 3",
   "language": "python",
   "name": "python3"
  },
  "language_info": {
   "codemirror_mode": {
    "name": "ipython",
    "version": 3
   },
   "file_extension": ".py",
   "mimetype": "text/x-python",
   "name": "python",
   "nbconvert_exporter": "python",
   "pygments_lexer": "ipython3",
   "version": "3.6.9"
  }
 },
 "nbformat": 4,
 "nbformat_minor": 5
}
